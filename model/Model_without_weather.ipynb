{
 "cells": [
  {
   "cell_type": "code",
   "execution_count": 30,
   "metadata": {},
   "outputs": [],
   "source": [
    "import datetime, warnings, scipy \n",
    "import pandas as pd\n",
    "import numpy as np\n",
    "import seaborn as sns\n",
    "import matplotlib.pyplot as plt\n",
    "import joblib\n",
    "\n",
    "\n",
    "# importing Various regression algorithms \n",
    "from sklearn.preprocessing import StandardScaler\n",
    "from sklearn.model_selection import train_test_split\n",
    "from sklearn.preprocessing import LabelEncoder\n",
    "from sklearn.linear_model import LogisticRegression\n",
    "from sklearn.discriminant_analysis import LinearDiscriminantAnalysis\n",
    "from sklearn.neighbors import KNeighborsClassifier\n",
    "from sklearn.naive_bayes import GaussianNB\n",
    "from sklearn.svm import SVC\n",
    "from sklearn.metrics import confusion_matrix, classification_report"
   ]
  },
  {
   "cell_type": "code",
   "execution_count": 2,
   "metadata": {},
   "outputs": [],
   "source": [
    "# read data\n",
    "data = pd.read_csv(\"flights.csv\",nrows=50000)"
   ]
  },
  {
   "cell_type": "code",
   "execution_count": 3,
   "metadata": {},
   "outputs": [
    {
     "name": "stdout",
     "output_type": "stream",
     "text": [
      "<class 'pandas.core.frame.DataFrame'>\n",
      "RangeIndex: 50000 entries, 0 to 49999\n",
      "Data columns (total 31 columns):\n",
      " #   Column               Non-Null Count  Dtype  \n",
      "---  ------               --------------  -----  \n",
      " 0   YEAR                 50000 non-null  int64  \n",
      " 1   MONTH                50000 non-null  int64  \n",
      " 2   DAY                  50000 non-null  int64  \n",
      " 3   DAY_OF_WEEK          50000 non-null  int64  \n",
      " 4   AIRLINE              50000 non-null  object \n",
      " 5   FLIGHT_NUMBER        50000 non-null  int64  \n",
      " 6   TAIL_NUMBER          49941 non-null  object \n",
      " 7   ORIGIN_AIRPORT       50000 non-null  object \n",
      " 8   DESTINATION_AIRPORT  50000 non-null  object \n",
      " 9   SCHEDULED_DEPARTURE  50000 non-null  int64  \n",
      " 10  DEPARTURE_TIME       48896 non-null  float64\n",
      " 11  DEPARTURE_DELAY      48896 non-null  float64\n",
      " 12  TAXI_OUT             48873 non-null  float64\n",
      " 13  WHEELS_OFF           48873 non-null  float64\n",
      " 14  SCHEDULED_TIME       50000 non-null  int64  \n",
      " 15  ELAPSED_TIME         48753 non-null  float64\n",
      " 16  AIR_TIME             48753 non-null  float64\n",
      " 17  DISTANCE             50000 non-null  int64  \n",
      " 18  WHEELS_ON            48839 non-null  float64\n",
      " 19  TAXI_IN              48839 non-null  float64\n",
      " 20  SCHEDULED_ARRIVAL    50000 non-null  int64  \n",
      " 21  ARRIVAL_TIME         48839 non-null  float64\n",
      " 22  ARRIVAL_DELAY        48753 non-null  float64\n",
      " 23  DIVERTED             50000 non-null  int64  \n",
      " 24  CANCELLED            50000 non-null  int64  \n",
      " 25  CANCELLATION_REASON  1138 non-null   object \n",
      " 26  AIR_SYSTEM_DELAY     15408 non-null  float64\n",
      " 27  SECURITY_DELAY       15408 non-null  float64\n",
      " 28  AIRLINE_DELAY        15408 non-null  float64\n",
      " 29  LATE_AIRCRAFT_DELAY  15408 non-null  float64\n",
      " 30  WEATHER_DELAY        15408 non-null  float64\n",
      "dtypes: float64(15), int64(11), object(5)\n",
      "memory usage: 11.8+ MB\n"
     ]
    }
   ],
   "source": [
    "data.info()"
   ]
  },
  {
   "cell_type": "code",
   "execution_count": 4,
   "metadata": {},
   "outputs": [],
   "source": [
    "# Drop unnecessary columns\n",
    "data1 = data.drop(['FLIGHT_NUMBER','TAIL_NUMBER','DEPARTURE_TIME','DEPARTURE_DELAY','TAXI_OUT','WHEELS_OFF','SCHEDULED_TIME',\n",
    "                    'ELAPSED_TIME','AIR_TIME','WHEELS_ON','TAXI_IN','ARRIVAL_TIME','ARRIVAL_DELAY','DIVERTED','AIR_SYSTEM_DELAY',\n",
    "                    'SECURITY_DELAY','AIRLINE_DELAY','LATE_AIRCRAFT_DELAY','WEATHER_DELAY','CANCELLATION_REASON'],axis = 1)"
   ]
  },
  {
   "cell_type": "code",
   "execution_count": 5,
   "metadata": {},
   "outputs": [
    {
     "data": {
      "text/plain": [
       "YEAR                   0\n",
       "MONTH                  0\n",
       "DAY                    0\n",
       "DAY_OF_WEEK            0\n",
       "AIRLINE                0\n",
       "ORIGIN_AIRPORT         0\n",
       "DESTINATION_AIRPORT    0\n",
       "SCHEDULED_DEPARTURE    0\n",
       "DISTANCE               0\n",
       "SCHEDULED_ARRIVAL      0\n",
       "CANCELLED              0\n",
       "dtype: int64"
      ]
     },
     "execution_count": 5,
     "metadata": {},
     "output_type": "execute_result"
    }
   ],
   "source": [
    "# Count the null value in each column\n",
    "data1.isnull().sum()"
   ]
  },
  {
   "cell_type": "code",
   "execution_count": 6,
   "metadata": {},
   "outputs": [
    {
     "name": "stdout",
     "output_type": "stream",
     "text": [
      "<class 'pandas.core.frame.DataFrame'>\n",
      "RangeIndex: 50000 entries, 0 to 49999\n",
      "Data columns (total 11 columns):\n",
      " #   Column               Non-Null Count  Dtype \n",
      "---  ------               --------------  ----- \n",
      " 0   YEAR                 50000 non-null  int64 \n",
      " 1   MONTH                50000 non-null  int64 \n",
      " 2   DAY                  50000 non-null  int64 \n",
      " 3   DAY_OF_WEEK          50000 non-null  int64 \n",
      " 4   AIRLINE              50000 non-null  object\n",
      " 5   ORIGIN_AIRPORT       50000 non-null  object\n",
      " 6   DESTINATION_AIRPORT  50000 non-null  object\n",
      " 7   SCHEDULED_DEPARTURE  50000 non-null  int64 \n",
      " 8   DISTANCE             50000 non-null  int64 \n",
      " 9   SCHEDULED_ARRIVAL    50000 non-null  int64 \n",
      " 10  CANCELLED            50000 non-null  int64 \n",
      "dtypes: int64(8), object(3)\n",
      "memory usage: 4.2+ MB\n"
     ]
    }
   ],
   "source": [
    "data1.info()"
   ]
  },
  {
   "cell_type": "code",
   "execution_count": 8,
   "metadata": {},
   "outputs": [],
   "source": [
    "# Change the representation of time\n",
    "def Format_Hourmin(hours):\n",
    "        if hours == 2400:\n",
    "            hours = 0\n",
    "        else:\n",
    "            hours = \"{0:04d}\".format(int(hours))\n",
    "            Hourmin = datetime.time(int(hours[0:2]), int(hours[2:4]))\n",
    "            return Hourmin\n",
    "        \n",
    "data1['SCHEDULED_DEPARTURE'] =data1['SCHEDULED_DEPARTURE'].apply(Format_Hourmin)\n",
    "data1['SCHEDULED_ARRIVAL'] =data1['SCHEDULED_ARRIVAL'].apply(Format_Hourmin)"
   ]
  },
  {
   "cell_type": "code",
   "execution_count": 9,
   "metadata": {},
   "outputs": [
    {
     "data": {
      "text/plain": [
       "Index(['YEAR', 'MONTH', 'DAY', 'DAY_OF_WEEK', 'AIRLINE', 'ORIGIN_AIRPORT',\n",
       "       'DESTINATION_AIRPORT', 'SCHEDULED_DEPARTURE', 'DISTANCE',\n",
       "       'SCHEDULED_ARRIVAL', 'CANCELLED'],\n",
       "      dtype='object')"
      ]
     },
     "execution_count": 9,
     "metadata": {},
     "output_type": "execute_result"
    }
   ],
   "source": [
    "data1.columns"
   ]
  },
  {
   "cell_type": "code",
   "execution_count": 10,
   "metadata": {},
   "outputs": [
    {
     "data": {
      "text/plain": [
       "0       2015-01-01\n",
       "1       2015-01-01\n",
       "2       2015-01-01\n",
       "3       2015-01-01\n",
       "4       2015-01-01\n",
       "           ...    \n",
       "49995   2015-01-04\n",
       "49996   2015-01-04\n",
       "49997   2015-01-04\n",
       "49998   2015-01-04\n",
       "49999   2015-01-04\n",
       "Name: Date, Length: 50000, dtype: datetime64[ns]"
      ]
     },
     "execution_count": 10,
     "metadata": {},
     "output_type": "execute_result"
    }
   ],
   "source": [
    "data1['Date'] = pd.to_datetime(data1[['YEAR','MONTH','DAY']])\n",
    "data1.Date"
   ]
  },
  {
   "cell_type": "code",
   "execution_count": 11,
   "metadata": {},
   "outputs": [],
   "source": [
    "# Find day of the week\n",
    "data1['Day'] = data1['Date'].dt.day_name()"
   ]
  },
  {
   "cell_type": "code",
   "execution_count": 12,
   "metadata": {},
   "outputs": [],
   "source": [
    "# Created a new data set and drop unnecessary data\n",
    "Flights = data1\n",
    "Flights =Flights.drop(['YEAR','Date','DAY_OF_WEEK'],axis=1)"
   ]
  },
  {
   "cell_type": "code",
   "execution_count": 13,
   "metadata": {},
   "outputs": [
    {
     "name": "stdout",
     "output_type": "stream",
     "text": [
      "<class 'pandas.core.frame.DataFrame'>\n",
      "RangeIndex: 50000 entries, 0 to 49999\n",
      "Data columns (total 10 columns):\n",
      " #   Column               Non-Null Count  Dtype \n",
      "---  ------               --------------  ----- \n",
      " 0   MONTH                50000 non-null  int64 \n",
      " 1   DAY                  50000 non-null  int64 \n",
      " 2   AIRLINE              50000 non-null  object\n",
      " 3   ORIGIN_AIRPORT       50000 non-null  object\n",
      " 4   DESTINATION_AIRPORT  50000 non-null  object\n",
      " 5   SCHEDULED_DEPARTURE  50000 non-null  object\n",
      " 6   DISTANCE             50000 non-null  int64 \n",
      " 7   SCHEDULED_ARRIVAL    50000 non-null  object\n",
      " 8   CANCELLED            50000 non-null  int64 \n",
      " 9   Day                  50000 non-null  object\n",
      "dtypes: int64(4), object(6)\n",
      "memory usage: 3.8+ MB\n"
     ]
    }
   ],
   "source": [
    "Flights.info()"
   ]
  },
  {
   "cell_type": "code",
   "execution_count": 14,
   "metadata": {},
   "outputs": [
    {
     "data": {
      "text/html": [
       "<div>\n",
       "<style scoped>\n",
       "    .dataframe tbody tr th:only-of-type {\n",
       "        vertical-align: middle;\n",
       "    }\n",
       "\n",
       "    .dataframe tbody tr th {\n",
       "        vertical-align: top;\n",
       "    }\n",
       "\n",
       "    .dataframe thead th {\n",
       "        text-align: right;\n",
       "    }\n",
       "</style>\n",
       "<table border=\"1\" class=\"dataframe\">\n",
       "  <thead>\n",
       "    <tr style=\"text-align: right;\">\n",
       "      <th></th>\n",
       "      <th>MONTH</th>\n",
       "      <th>DAY</th>\n",
       "      <th>AIRLINE</th>\n",
       "      <th>ORIGIN_AIRPORT</th>\n",
       "      <th>DESTINATION_AIRPORT</th>\n",
       "      <th>SCHEDULED_DEPARTURE</th>\n",
       "      <th>DISTANCE</th>\n",
       "      <th>SCHEDULED_ARRIVAL</th>\n",
       "      <th>CANCELLED</th>\n",
       "      <th>Day</th>\n",
       "    </tr>\n",
       "  </thead>\n",
       "  <tbody>\n",
       "    <tr>\n",
       "      <th>0</th>\n",
       "      <td>1</td>\n",
       "      <td>1</td>\n",
       "      <td>AS</td>\n",
       "      <td>ANC</td>\n",
       "      <td>SEA</td>\n",
       "      <td>00:05:00</td>\n",
       "      <td>1448</td>\n",
       "      <td>04:30:00</td>\n",
       "      <td>0</td>\n",
       "      <td>Thursday</td>\n",
       "    </tr>\n",
       "    <tr>\n",
       "      <th>1</th>\n",
       "      <td>1</td>\n",
       "      <td>1</td>\n",
       "      <td>AA</td>\n",
       "      <td>LAX</td>\n",
       "      <td>PBI</td>\n",
       "      <td>00:10:00</td>\n",
       "      <td>2330</td>\n",
       "      <td>07:50:00</td>\n",
       "      <td>0</td>\n",
       "      <td>Thursday</td>\n",
       "    </tr>\n",
       "    <tr>\n",
       "      <th>2</th>\n",
       "      <td>1</td>\n",
       "      <td>1</td>\n",
       "      <td>US</td>\n",
       "      <td>SFO</td>\n",
       "      <td>CLT</td>\n",
       "      <td>00:20:00</td>\n",
       "      <td>2296</td>\n",
       "      <td>08:06:00</td>\n",
       "      <td>0</td>\n",
       "      <td>Thursday</td>\n",
       "    </tr>\n",
       "    <tr>\n",
       "      <th>3</th>\n",
       "      <td>1</td>\n",
       "      <td>1</td>\n",
       "      <td>AA</td>\n",
       "      <td>LAX</td>\n",
       "      <td>MIA</td>\n",
       "      <td>00:20:00</td>\n",
       "      <td>2342</td>\n",
       "      <td>08:05:00</td>\n",
       "      <td>0</td>\n",
       "      <td>Thursday</td>\n",
       "    </tr>\n",
       "    <tr>\n",
       "      <th>4</th>\n",
       "      <td>1</td>\n",
       "      <td>1</td>\n",
       "      <td>AS</td>\n",
       "      <td>SEA</td>\n",
       "      <td>ANC</td>\n",
       "      <td>00:25:00</td>\n",
       "      <td>1448</td>\n",
       "      <td>03:20:00</td>\n",
       "      <td>0</td>\n",
       "      <td>Thursday</td>\n",
       "    </tr>\n",
       "    <tr>\n",
       "      <th>...</th>\n",
       "      <td>...</td>\n",
       "      <td>...</td>\n",
       "      <td>...</td>\n",
       "      <td>...</td>\n",
       "      <td>...</td>\n",
       "      <td>...</td>\n",
       "      <td>...</td>\n",
       "      <td>...</td>\n",
       "      <td>...</td>\n",
       "      <td>...</td>\n",
       "    </tr>\n",
       "    <tr>\n",
       "      <th>49995</th>\n",
       "      <td>1</td>\n",
       "      <td>4</td>\n",
       "      <td>AA</td>\n",
       "      <td>DFW</td>\n",
       "      <td>LAS</td>\n",
       "      <td>09:15:00</td>\n",
       "      <td>1055</td>\n",
       "      <td>10:10:00</td>\n",
       "      <td>0</td>\n",
       "      <td>Sunday</td>\n",
       "    </tr>\n",
       "    <tr>\n",
       "      <th>49996</th>\n",
       "      <td>1</td>\n",
       "      <td>4</td>\n",
       "      <td>AA</td>\n",
       "      <td>STX</td>\n",
       "      <td>MIA</td>\n",
       "      <td>09:15:00</td>\n",
       "      <td>1139</td>\n",
       "      <td>11:22:00</td>\n",
       "      <td>0</td>\n",
       "      <td>Sunday</td>\n",
       "    </tr>\n",
       "    <tr>\n",
       "      <th>49997</th>\n",
       "      <td>1</td>\n",
       "      <td>4</td>\n",
       "      <td>AS</td>\n",
       "      <td>DCA</td>\n",
       "      <td>LAX</td>\n",
       "      <td>09:15:00</td>\n",
       "      <td>2311</td>\n",
       "      <td>12:10:00</td>\n",
       "      <td>0</td>\n",
       "      <td>Sunday</td>\n",
       "    </tr>\n",
       "    <tr>\n",
       "      <th>49998</th>\n",
       "      <td>1</td>\n",
       "      <td>4</td>\n",
       "      <td>DL</td>\n",
       "      <td>ATL</td>\n",
       "      <td>ICT</td>\n",
       "      <td>09:15:00</td>\n",
       "      <td>782</td>\n",
       "      <td>10:40:00</td>\n",
       "      <td>0</td>\n",
       "      <td>Sunday</td>\n",
       "    </tr>\n",
       "    <tr>\n",
       "      <th>49999</th>\n",
       "      <td>1</td>\n",
       "      <td>4</td>\n",
       "      <td>DL</td>\n",
       "      <td>MSP</td>\n",
       "      <td>LAX</td>\n",
       "      <td>09:15:00</td>\n",
       "      <td>1535</td>\n",
       "      <td>11:25:00</td>\n",
       "      <td>0</td>\n",
       "      <td>Sunday</td>\n",
       "    </tr>\n",
       "  </tbody>\n",
       "</table>\n",
       "<p>50000 rows × 10 columns</p>\n",
       "</div>"
      ],
      "text/plain": [
       "       MONTH  DAY AIRLINE ORIGIN_AIRPORT DESTINATION_AIRPORT  \\\n",
       "0          1    1      AS            ANC                 SEA   \n",
       "1          1    1      AA            LAX                 PBI   \n",
       "2          1    1      US            SFO                 CLT   \n",
       "3          1    1      AA            LAX                 MIA   \n",
       "4          1    1      AS            SEA                 ANC   \n",
       "...      ...  ...     ...            ...                 ...   \n",
       "49995      1    4      AA            DFW                 LAS   \n",
       "49996      1    4      AA            STX                 MIA   \n",
       "49997      1    4      AS            DCA                 LAX   \n",
       "49998      1    4      DL            ATL                 ICT   \n",
       "49999      1    4      DL            MSP                 LAX   \n",
       "\n",
       "      SCHEDULED_DEPARTURE  DISTANCE SCHEDULED_ARRIVAL  CANCELLED       Day  \n",
       "0                00:05:00      1448          04:30:00          0  Thursday  \n",
       "1                00:10:00      2330          07:50:00          0  Thursday  \n",
       "2                00:20:00      2296          08:06:00          0  Thursday  \n",
       "3                00:20:00      2342          08:05:00          0  Thursday  \n",
       "4                00:25:00      1448          03:20:00          0  Thursday  \n",
       "...                   ...       ...               ...        ...       ...  \n",
       "49995            09:15:00      1055          10:10:00          0    Sunday  \n",
       "49996            09:15:00      1139          11:22:00          0    Sunday  \n",
       "49997            09:15:00      2311          12:10:00          0    Sunday  \n",
       "49998            09:15:00       782          10:40:00          0    Sunday  \n",
       "49999            09:15:00      1535          11:25:00          0    Sunday  \n",
       "\n",
       "[50000 rows x 10 columns]"
      ]
     },
     "execution_count": 14,
     "metadata": {},
     "output_type": "execute_result"
    }
   ],
   "source": [
    "Flights"
   ]
  },
  {
   "cell_type": "code",
   "execution_count": 15,
   "metadata": {},
   "outputs": [
    {
     "data": {
      "image/png": "[encoded data removed]",
      "text/plain": [
       "<Figure size 720x1008 with 1 Axes>"
      ]
     },
     "metadata": {},
     "output_type": "display_data"
    }
   ],
   "source": [
    "# Percentage of flights for each airline\n",
    "axis = plt.subplots(figsize=(10,14))\n",
    "Name = Flights[\"AIRLINE\"].unique()\n",
    "size = Flights[\"AIRLINE\"].value_counts()\n",
    "plt.pie(size,labels=Name,autopct='%5.0f%%')\n",
    "plt.show()"
   ]
  },
  {
   "cell_type": "markdown",
   "metadata": {},
   "source": [
    "# Prediction"
   ]
  },
  {
   "cell_type": "code",
   "execution_count": 16,
   "metadata": {},
   "outputs": [],
   "source": [
    "# Function to encode nomial columns\n",
    "def onehot_encode(df, column_dict):\n",
    "    df = df.copy()\n",
    "    for column, prefix in column_dict.items():\n",
    "        dummies = pd.get_dummies(df[column], prefix=prefix)\n",
    "        df = pd.concat([df, dummies], axis=1)\n",
    "        df = df.drop(column, axis=1)\n",
    "    return df"
   ]
  },
  {
   "cell_type": "code",
   "execution_count": 17,
   "metadata": {},
   "outputs": [],
   "source": [
    "# Function to process data, split data, and scale data\n",
    "def preprocess_inputs(df):\n",
    "    df = df.copy()    \n",
    "    # One-hot encode nominal feature columns\n",
    "    df = onehot_encode(\n",
    "        df,\n",
    "        column_dict={\n",
    "            'AIRLINE': 'AL',\n",
    "            'ORIGIN_AIRPORT': 'OA',\n",
    "            'DESTINATION_AIRPORT': 'DA',\n",
    "            'Day':'Day'\n",
    "        }\n",
    "    )\n",
    "    # Split df into X and y\n",
    "    y = df['CANCELLED'].copy()\n",
    "    X = df.drop('CANCELLED', axis=1).copy()\n",
    "    # Train-test split\n",
    "    X_train, X_test, y_train, y_test = train_test_split(X, y, train_size=0.7, random_state=123)\n",
    "    # Scale X with a standard scaler\n",
    "    scaler = StandardScaler()\n",
    "    scaler.fit(X_train)\n",
    "    \n",
    "    X_train = pd.DataFrame(scaler.transform(X_train), columns=X.columns)\n",
    "    X_test = pd.DataFrame(scaler.transform(X_test), columns=X.columns)\n",
    "   \n",
    "    return X_train, X_test, y_train, y_test"
   ]
  },
  {
   "cell_type": "code",
   "execution_count": 18,
   "metadata": {},
   "outputs": [
    {
     "data": {
      "text/plain": [
       "Index(['MONTH', 'DAY', 'AIRLINE', 'ORIGIN_AIRPORT', 'DESTINATION_AIRPORT',\n",
       "       'SCHEDULED_DEPARTURE', 'DISTANCE', 'SCHEDULED_ARRIVAL', 'CANCELLED',\n",
       "       'Day'],\n",
       "      dtype='object')"
      ]
     },
     "execution_count": 18,
     "metadata": {},
     "output_type": "execute_result"
    }
   ],
   "source": [
    "Flights.columns"
   ]
  },
  {
   "cell_type": "code",
   "execution_count": 19,
   "metadata": {},
   "outputs": [],
   "source": [
    "# Model Names\n",
    "LogR = LogisticRegression()\n",
    "Lda = LinearDiscriminantAnalysis()\n",
    "Svc = SVC()\n",
    "KN = KNeighborsClassifier(n_neighbors=3)\n",
    "Gaussian = GaussianNB()"
   ]
  },
  {
   "cell_type": "code",
   "execution_count": 20,
   "metadata": {},
   "outputs": [],
   "source": [
    "#### Currently Drop Departure Time and Arrival Time (NEED CHANGE)\n",
    "\n",
    "Flights =Flights.drop(['SCHEDULED_DEPARTURE','SCHEDULED_ARRIVAL'],axis=1)\n",
    "X_train, X_test, y_train, y_test = preprocess_inputs(Flights)"
   ]
  },
  {
   "cell_type": "code",
   "execution_count": 21,
   "metadata": {},
   "outputs": [],
   "source": [
    "# Function to calcualte the accuracy of model and create confusion matrix\n",
    "def evaluate_model(model, X_test, y_test):\n",
    "    \n",
    "    model_acc = model.score(X_test, y_test)\n",
    "    print(\"Test Accuracy: {:.2f}%\".format(model_acc * 100))\n",
    "    \n",
    "    y_true = np.array(y_test)\n",
    "    y_pred = model.predict(X_test)\n",
    "    \n",
    "    cm = confusion_matrix(y_true, y_pred)\n",
    "    clr = classification_report(y_true, y_pred, target_names=[\"NOT CANCELLED\", \"CANCELLED\"])\n",
    "    \n",
    "    plt.figure(figsize=(8, 8))\n",
    "    sns.heatmap(cm, annot=True, vmin=0, fmt='g', cmap='Blues', cbar=False)\n",
    "    plt.xticks(np.arange(2) + 0.5, [\"NOT CANCELLED\", \"CANCELLED\"])\n",
    "    plt.yticks(np.arange(2) + 0.5, [\"NOT CANCELLED\", \"CANCELLED\"])\n",
    "    plt.xlabel(\"Predicted\")\n",
    "    plt.ylabel(\"Actual\")\n",
    "    plt.title(\"Confusion Matrix\")\n",
    "    plt.show()\n",
    "    \n",
    "    print(\"Classification Report:\\n----------------------\\n\", clr)"
   ]
  },
  {
   "cell_type": "code",
   "execution_count": 22,
   "metadata": {},
   "outputs": [
    {
     "name": "stdout",
     "output_type": "stream",
     "text": [
      "Test Accuracy: 97.56%\n"
     ]
    },
    {
     "name": "stderr",
     "output_type": "stream",
     "text": [
      "C:\\Users\\wei99\\anaconda3\\lib\\site-packages\\sklearn\\linear_model\\_logistic.py:763: ConvergenceWarning: lbfgs failed to converge (status=1):\n",
      "STOP: TOTAL NO. of ITERATIONS REACHED LIMIT.\n",
      "\n",
      "Increase the number of iterations (max_iter) or scale the data as shown in:\n",
      "    https://scikit-learn.org/stable/modules/preprocessing.html\n",
      "Please also refer to the documentation for alternative solver options:\n",
      "    https://scikit-learn.org/stable/modules/linear_model.html#logistic-regression\n",
      "  n_iter_i = _check_optimize_result(\n"
     ]
    },
    {
     "data": {
      "image/png": "[encoded data removed]",
      "text/plain": [
       "<Figure size 576x576 with 1 Axes>"
      ]
     },
     "metadata": {
      "needs_background": "light"
     },
     "output_type": "display_data"
    },
    {
     "name": "stdout",
     "output_type": "stream",
     "text": [
      "Classification Report:\n",
      "----------------------\n",
      "                precision    recall  f1-score   support\n",
      "\n",
      "NOT CANCELLED       0.98      1.00      0.99     14649\n",
      "    CANCELLED       0.41      0.09      0.15       351\n",
      "\n",
      "     accuracy                           0.98     15000\n",
      "    macro avg       0.69      0.55      0.57     15000\n",
      " weighted avg       0.97      0.98      0.97     15000\n",
      "\n"
     ]
    }
   ],
   "source": [
    "# Logistic Regression Model\n",
    "logistic_regression = LogR.fit(X_train, y_train)\n",
    "evaluate_model(logistic_regression, X_test, y_test)"
   ]
  },
  {
   "cell_type": "code",
   "execution_count": 23,
   "metadata": {},
   "outputs": [
    {
     "name": "stdout",
     "output_type": "stream",
     "text": [
      "Test Accuracy: 96.72%\n"
     ]
    },
    {
     "data": {
      "image/png": "[encoded data removed]",
      "text/plain": [
       "<Figure size 576x576 with 1 Axes>"
      ]
     },
     "metadata": {
      "needs_background": "light"
     },
     "output_type": "display_data"
    },
    {
     "name": "stdout",
     "output_type": "stream",
     "text": [
      "Classification Report:\n",
      "----------------------\n",
      "                precision    recall  f1-score   support\n",
      "\n",
      "NOT CANCELLED       0.98      0.98      0.98     14649\n",
      "    CANCELLED       0.30      0.30      0.30       351\n",
      "\n",
      "     accuracy                           0.97     15000\n",
      "    macro avg       0.64      0.64      0.64     15000\n",
      " weighted avg       0.97      0.97      0.97     15000\n",
      "\n"
     ]
    }
   ],
   "source": [
    "# Linear Discriminant Analysis Model\n",
    "linear_discriminant = Lda.fit(X_train, y_train)\n",
    "evaluate_model(linear_discriminant, X_test, y_test)"
   ]
  },
  {
   "cell_type": "code",
   "execution_count": 24,
   "metadata": {},
   "outputs": [
    {
     "name": "stdout",
     "output_type": "stream",
     "text": [
      "Test Accuracy: 97.60%\n"
     ]
    },
    {
     "data": {
      "image/png": "[encoded data removed]",
      "text/plain": [
       "<Figure size 576x576 with 1 Axes>"
      ]
     },
     "metadata": {
      "needs_background": "light"
     },
     "output_type": "display_data"
    },
    {
     "name": "stdout",
     "output_type": "stream",
     "text": [
      "Classification Report:\n",
      "----------------------\n",
      "                precision    recall  f1-score   support\n",
      "\n",
      "NOT CANCELLED       0.98      1.00      0.99     14649\n",
      "    CANCELLED       0.46      0.14      0.22       351\n",
      "\n",
      "     accuracy                           0.98     15000\n",
      "    macro avg       0.72      0.57      0.60     15000\n",
      " weighted avg       0.97      0.98      0.97     15000\n",
      "\n"
     ]
    }
   ],
   "source": [
    "# K Neighbors Classifier Model\n",
    "KNeighbor = KN.fit(X_train, y_train)\n",
    "evaluate_model(KNeighbor, X_test, y_test)"
   ]
  },
  {
   "cell_type": "code",
   "execution_count": 25,
   "metadata": {},
   "outputs": [
    {
     "name": "stdout",
     "output_type": "stream",
     "text": [
      "Test Accuracy: 21.20%\n"
     ]
    },
    {
     "data": {
      "image/png": "[encoded data removed]",
      "text/plain": [
       "<Figure size 576x576 with 1 Axes>"
      ]
     },
     "metadata": {
      "needs_background": "light"
     },
     "output_type": "display_data"
    },
    {
     "name": "stdout",
     "output_type": "stream",
     "text": [
      "Classification Report:\n",
      "----------------------\n",
      "                precision    recall  f1-score   support\n",
      "\n",
      "NOT CANCELLED       0.98      0.20      0.33     14649\n",
      "    CANCELLED       0.02      0.83      0.05       351\n",
      "\n",
      "     accuracy                           0.21     15000\n",
      "    macro avg       0.50      0.51      0.19     15000\n",
      " weighted avg       0.96      0.21      0.32     15000\n",
      "\n"
     ]
    }
   ],
   "source": [
    "# Gaussian Naive Bayes Model\n",
    "Gau = Gaussian.fit(X_train, y_train)\n",
    "evaluate_model(Gau, X_test, y_test)"
   ]
  },
  {
   "cell_type": "code",
   "execution_count": 26,
   "metadata": {},
   "outputs": [
    {
     "name": "stdout",
     "output_type": "stream",
     "text": [
      "Test Accuracy: 97.65%\n"
     ]
    },
    {
     "data": {
      "image/png": "[encoded data removed]",
      "text/plain": [
       "<Figure size 576x576 with 1 Axes>"
      ]
     },
     "metadata": {
      "needs_background": "light"
     },
     "output_type": "display_data"
    },
    {
     "name": "stdout",
     "output_type": "stream",
     "text": [
      "Classification Report:\n",
      "----------------------\n",
      "                precision    recall  f1-score   support\n",
      "\n",
      "NOT CANCELLED       0.98      1.00      0.99     14649\n",
      "    CANCELLED       0.49      0.10      0.17       351\n",
      "\n",
      "     accuracy                           0.98     15000\n",
      "    macro avg       0.73      0.55      0.58     15000\n",
      " weighted avg       0.97      0.98      0.97     15000\n",
      "\n"
     ]
    }
   ],
   "source": [
    "# SVC Model\n",
    "SVC = Svc.fit(X_train, y_train)\n",
    "evaluate_model(SVC, X_test, y_test)"
   ]
  },
  {
   "cell_type": "markdown",
   "metadata": {},
   "source": [
    "# Conclusion\n",
    "The current best model is SVC model with a accuracy score of 97.65. Next step is to add weather to data to rerun the program and see what is the best model.\n",
    "Instead of outputting a probability, this model classify the output to either 0 for no cancellation or 1 for cancellation."
   ]
  },
  {
   "cell_type": "code",
   "execution_count": 31,
   "metadata": {},
   "outputs": [
    {
     "data": {
      "text/plain": [
       "['model.pkl']"
      ]
     },
     "execution_count": 31,
     "metadata": {},
     "output_type": "execute_result"
    }
   ],
   "source": [
    "# Save the model as a pickle in a file\n",
    "joblib.dump(Svc, 'model.pkl')\n",
    " \n",
    "# Load the model from the file\n",
    "# model_from_joblib = joblib.load('model.pkl')\n",
    " \n",
    "# Use the loaded model to make predictions\n",
    "# model_from_joblib.predict(X_test)"
   ]
  }
 ],
 "metadata": {
  "kernelspec": {
   "display_name": "Python 3 (ipykernel)",
   "language": "python",
   "name": "python3"
  },
  "language_info": {
   "codemirror_mode": {
    "name": "ipython",
    "version": 3
   },
   "file_extension": ".py",
   "mimetype": "text/x-python",
   "name": "python",
   "nbconvert_exporter": "python",
   "pygments_lexer": "ipython3",
   "version": "3.9.10"
  }
 },
 "nbformat": 4,
 "nbformat_minor": 1
}
